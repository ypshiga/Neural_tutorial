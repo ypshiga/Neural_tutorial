{
 "cells": [
  {
   "cell_type": "code",
   "execution_count": null,
   "id": "elect-bangladesh",
   "metadata": {},
   "outputs": [],
   "source": [
    "# Processing carbon cycle predictors and training fluxes\n",
    "# Predictors are mostly at 1x1 degree spatial resolution\n",
    "# and monthly temporal resolution over North America"
   ]
  },
  {
   "cell_type": "code",
   "execution_count": 2,
   "id": "understanding-diagram",
   "metadata": {},
   "outputs": [],
   "source": [
    "import numpy as np\n",
    "import os.path\n",
    "from netCDF4 import Dataset\n",
    "from sklearn import preprocessing\n",
    "import pandas as pd\n",
    "\n",
    "\n",
    "# Directory for data\n",
    "data_dir = \"/Users/yshiga/Documents/Research/Machine/Monthly/\""
   ]
  },
  {
   "cell_type": "code",
   "execution_count": 3,
   "id": "gorgeous-surgeon",
   "metadata": {},
   "outputs": [
    {
     "data": {
      "text/plain": [
       "<class 'netCDF4._netCDF4.Dataset'>\n",
       "root group (NETCDF4 data model, file format HDF5):\n",
       "    dimensions(sizes): x(2613), time(108)\n",
       "    variables(dimensions): int64 x(x), int64 time(time), float64 monthly_flux(time, x), float64 se_monthly_flux(time, x)\n",
       "    groups: "
      ]
     },
     "execution_count": 3,
     "metadata": {},
     "output_type": "execute_result"
    }
   ],
   "source": [
    "# Load in training fluxes, reshape, and transform scale\n",
    "\n",
    "# filename for inverse carbon fluxes (units are umol/m2/s)\n",
    "filename_flux = data_dir + \"inversion/geoinv-sif-monthly-2007-to-2015.nc\"\n",
    "nc_inv = Dataset(filename_flux, 'r')  # open inversion file using netcdf reader\n",
    "nc_inv  # take a look at data"
   ]
  },
  {
   "cell_type": "code",
   "execution_count": 11,
   "id": "statewide-emperor",
   "metadata": {},
   "outputs": [
    {
     "data": {
      "text/plain": [
       "(282204, 1)"
      ]
     },
     "execution_count": 11,
     "metadata": {},
     "output_type": "execute_result"
    }
   ],
   "source": [
    "# Variables are: 'x', 'time','monthly_flux','se_monthly_flux'\n",
    "# Dimensions are: 2613 (spatial) and 108 (time) = 12months * 9 years\n",
    "flux_x = nc_inv.variables['x'][:]  # 'x' index of spatial dimensions\n",
    "flux_var = np.transpose(nc_inv.variables['monthly_flux'][:])  # 'monthly_flux' carbon fluxes transpose for organization\n",
    "flux_var=flux_var.reshape((2613*108, 1), order='F') # reshape into one vector by stacking each month\n",
    "flux_var.shape\n"
   ]
  },
  {
   "cell_type": "code",
   "execution_count": null,
   "id": "heavy-wheel",
   "metadata": {},
   "outputs": [],
   "source": [
    "# Load in predictors\n"
   ]
  },
  {
   "cell_type": "code",
   "execution_count": 12,
   "id": "appointed-temple",
   "metadata": {},
   "outputs": [],
   "source": [
    "# Create the pandas DataFrame with flux and predictors\n",
    "df = pd.DataFrame(flux_var, columns = ['flux']) \n",
    "  "
   ]
  },
  {
   "cell_type": "code",
   "execution_count": null,
   "id": "brazilian-proxy",
   "metadata": {},
   "outputs": [],
   "source": []
  }
 ],
 "metadata": {
  "kernelspec": {
   "display_name": "Python 3",
   "language": "python",
   "name": "python3"
  },
  "language_info": {
   "codemirror_mode": {
    "name": "ipython",
    "version": 3
   },
   "file_extension": ".py",
   "mimetype": "text/x-python",
   "name": "python",
   "nbconvert_exporter": "python",
   "pygments_lexer": "ipython3",
   "version": "3.7.9"
  }
 },
 "nbformat": 4,
 "nbformat_minor": 5
}
